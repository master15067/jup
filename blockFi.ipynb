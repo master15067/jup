{
 "cells": [
  {
   "cell_type": "code",
   "execution_count": 126,
   "id": "acb1a4dc",
   "metadata": {},
   "outputs": [],
   "source": [
    "import pandas as pd"
   ]
  },
  {
   "cell_type": "code",
   "execution_count": 127,
   "id": "88fa1c3f",
   "metadata": {},
   "outputs": [],
   "source": [
    "import numpy as np"
   ]
  },
  {
   "cell_type": "code",
   "execution_count": 128,
   "id": "f6d0ce1a",
   "metadata": {},
   "outputs": [],
   "source": [
    "import matplotlib.pyplot as plt"
   ]
  },
  {
   "cell_type": "markdown",
   "id": "fcb2d314",
   "metadata": {},
   "source": [
    "Read csv file"
   ]
  },
  {
   "cell_type": "code",
   "execution_count": 129,
   "id": "90f3830d",
   "metadata": {},
   "outputs": [],
   "source": [
    "df0 = pd.read_csv(\"blockfi_transactions.csv\")"
   ]
  },
  {
   "cell_type": "code",
   "execution_count": 130,
   "id": "69178e0e",
   "metadata": {},
   "outputs": [],
   "source": [
    "#rename column name\n",
    "df0= df0.rename(columns={\"Transaction Type\":\"Type\", \"Confirmed At\":\"Date\",\"Cryptocurrency\":\"Token\"})"
   ]
  },
  {
   "cell_type": "code",
   "execution_count": 131,
   "id": "8933e6f0",
   "metadata": {},
   "outputs": [],
   "source": [
    "#convert date time\n",
    "df0[\"Date\"] = pd.to_datetime(df0[\"Date\"])"
   ]
  },
  {
   "cell_type": "code",
   "execution_count": 132,
   "id": "56d15ee8",
   "metadata": {},
   "outputs": [
    {
     "data": {
      "text/html": [
       "<div>\n",
       "<style scoped>\n",
       "    .dataframe tbody tr th:only-of-type {\n",
       "        vertical-align: middle;\n",
       "    }\n",
       "\n",
       "    .dataframe tbody tr th {\n",
       "        vertical-align: top;\n",
       "    }\n",
       "\n",
       "    .dataframe thead th {\n",
       "        text-align: right;\n",
       "    }\n",
       "</style>\n",
       "<table border=\"1\" class=\"dataframe\">\n",
       "  <thead>\n",
       "    <tr style=\"text-align: right;\">\n",
       "      <th></th>\n",
       "      <th>Token</th>\n",
       "      <th>Amount</th>\n",
       "      <th>Type</th>\n",
       "      <th>Date</th>\n",
       "    </tr>\n",
       "  </thead>\n",
       "  <tbody>\n",
       "    <tr>\n",
       "      <th>0</th>\n",
       "      <td>USDC</td>\n",
       "      <td>-2.000000</td>\n",
       "      <td>Trade</td>\n",
       "      <td>2021-04-05 00:47:30</td>\n",
       "    </tr>\n",
       "    <tr>\n",
       "      <th>1</th>\n",
       "      <td>LTC</td>\n",
       "      <td>0.009811</td>\n",
       "      <td>Trade</td>\n",
       "      <td>2021-04-05 00:47:30</td>\n",
       "    </tr>\n",
       "    <tr>\n",
       "      <th>2</th>\n",
       "      <td>USDC</td>\n",
       "      <td>-2.000000</td>\n",
       "      <td>Trade</td>\n",
       "      <td>2021-04-04 21:59:30</td>\n",
       "    </tr>\n",
       "    <tr>\n",
       "      <th>3</th>\n",
       "      <td>USDT</td>\n",
       "      <td>1.979777</td>\n",
       "      <td>Trade</td>\n",
       "      <td>2021-04-04 21:59:30</td>\n",
       "    </tr>\n",
       "    <tr>\n",
       "      <th>4</th>\n",
       "      <td>BUSD</td>\n",
       "      <td>-2.000000</td>\n",
       "      <td>Trade</td>\n",
       "      <td>2021-04-04 21:44:31</td>\n",
       "    </tr>\n",
       "    <tr>\n",
       "      <th>5</th>\n",
       "      <td>LINK</td>\n",
       "      <td>0.064683</td>\n",
       "      <td>Trade</td>\n",
       "      <td>2021-04-04 21:44:31</td>\n",
       "    </tr>\n",
       "  </tbody>\n",
       "</table>\n",
       "</div>"
      ],
      "text/plain": [
       "  Token    Amount   Type                Date\n",
       "0  USDC -2.000000  Trade 2021-04-05 00:47:30\n",
       "1   LTC  0.009811  Trade 2021-04-05 00:47:30\n",
       "2  USDC -2.000000  Trade 2021-04-04 21:59:30\n",
       "3  USDT  1.979777  Trade 2021-04-04 21:59:30\n",
       "4  BUSD -2.000000  Trade 2021-04-04 21:44:31\n",
       "5  LINK  0.064683  Trade 2021-04-04 21:44:31"
      ]
     },
     "execution_count": 132,
     "metadata": {},
     "output_type": "execute_result"
    }
   ],
   "source": [
    "df0.head(6)"
   ]
  },
  {
   "cell_type": "markdown",
   "id": "f2cec980",
   "metadata": {},
   "source": [
    "Save csv file"
   ]
  },
  {
   "cell_type": "code",
   "execution_count": 133,
   "id": "aa92dc7f",
   "metadata": {},
   "outputs": [],
   "source": [
    "#df0.info()"
   ]
  },
  {
   "cell_type": "code",
   "execution_count": 134,
   "id": "4aabea82",
   "metadata": {},
   "outputs": [],
   "source": [
    "df0.to_csv('dfblockfi.csv')"
   ]
  },
  {
   "cell_type": "code",
   "execution_count": 135,
   "id": "746119ac",
   "metadata": {},
   "outputs": [
    {
     "data": {
      "text/html": [
       "<div>\n",
       "<style scoped>\n",
       "    .dataframe tbody tr th:only-of-type {\n",
       "        vertical-align: middle;\n",
       "    }\n",
       "\n",
       "    .dataframe tbody tr th {\n",
       "        vertical-align: top;\n",
       "    }\n",
       "\n",
       "    .dataframe thead th {\n",
       "        text-align: right;\n",
       "    }\n",
       "</style>\n",
       "<table border=\"1\" class=\"dataframe\">\n",
       "  <thead>\n",
       "    <tr style=\"text-align: right;\">\n",
       "      <th></th>\n",
       "      <th>Amount</th>\n",
       "    </tr>\n",
       "    <tr>\n",
       "      <th>Token</th>\n",
       "      <th></th>\n",
       "    </tr>\n",
       "  </thead>\n",
       "  <tbody>\n",
       "    <tr>\n",
       "      <th>BTC</th>\n",
       "      <td>0.010005</td>\n",
       "    </tr>\n",
       "    <tr>\n",
       "      <th>BUSD</th>\n",
       "      <td>104.776499</td>\n",
       "    </tr>\n",
       "    <tr>\n",
       "      <th>ETH</th>\n",
       "      <td>0.194681</td>\n",
       "    </tr>\n",
       "    <tr>\n",
       "      <th>GUSD</th>\n",
       "      <td>35.000000</td>\n",
       "    </tr>\n",
       "    <tr>\n",
       "      <th>LINK</th>\n",
       "      <td>0.514719</td>\n",
       "    </tr>\n",
       "    <tr>\n",
       "      <th>LTC</th>\n",
       "      <td>0.786868</td>\n",
       "    </tr>\n",
       "    <tr>\n",
       "      <th>PAX</th>\n",
       "      <td>576.360658</td>\n",
       "    </tr>\n",
       "    <tr>\n",
       "      <th>PAXG</th>\n",
       "      <td>0.077425</td>\n",
       "    </tr>\n",
       "    <tr>\n",
       "      <th>USDC</th>\n",
       "      <td>98.001054</td>\n",
       "    </tr>\n",
       "    <tr>\n",
       "      <th>USDT</th>\n",
       "      <td>32.196341</td>\n",
       "    </tr>\n",
       "  </tbody>\n",
       "</table>\n",
       "</div>"
      ],
      "text/plain": [
       "           Amount\n",
       "Token            \n",
       "BTC      0.010005\n",
       "BUSD   104.776499\n",
       "ETH      0.194681\n",
       "GUSD    35.000000\n",
       "LINK     0.514719\n",
       "LTC      0.786868\n",
       "PAX    576.360658\n",
       "PAXG     0.077425\n",
       "USDC    98.001054\n",
       "USDT    32.196341"
      ]
     },
     "execution_count": 135,
     "metadata": {},
     "output_type": "execute_result"
    }
   ],
   "source": [
    "df0[['Token','Type','Amount']].groupby(by='Token').sum()"
   ]
  },
  {
   "cell_type": "code",
   "execution_count": 136,
   "id": "722dea23",
   "metadata": {},
   "outputs": [],
   "source": [
    "#group stablecoins\n",
    "#df1=  df0[['Token','Type','Amount']].query(\"Token != 'BTC' and Token!= 'ETH' and Token!='LINK' and Token!='LTC' and Token!='PAXG'\").groupby(by='Token').sum()"
   ]
  },
  {
   "cell_type": "code",
   "execution_count": 137,
   "id": "4147455e",
   "metadata": {},
   "outputs": [
    {
     "name": "stdout",
     "output_type": "stream",
     "text": [
      "Amount    846.334552\n",
      "dtype: float64\n"
     ]
    }
   ],
   "source": [
    "print(df1.sum()) #sum stablecoins"
   ]
  },
  {
   "cell_type": "code",
   "execution_count": 138,
   "id": "46eb9e0e",
   "metadata": {},
   "outputs": [],
   "source": [
    "#interest group stablecoins\n",
    "df2=  df0[['Date','Token','Type','Amount']].query(\"Token != 'BTC' and Token!= 'ETH' and Token!='LINK' and Token!='LTC' and Token!='PAXG' and Type=='Interest Payment'\")"
   ]
  },
  {
   "cell_type": "code",
   "execution_count": 139,
   "id": "4d20888e",
   "metadata": {},
   "outputs": [],
   "source": [
    "#df2"
   ]
  },
  {
   "cell_type": "markdown",
   "id": "076fd43a",
   "metadata": {},
   "source": [
    "Array"
   ]
  },
  {
   "cell_type": "code",
   "execution_count": 140,
   "id": "8be6fa9e",
   "metadata": {},
   "outputs": [],
   "source": [
    "x1 = np.sort(df2['Date']) #riordina"
   ]
  },
  {
   "cell_type": "code",
   "execution_count": 141,
   "id": "62cf377b",
   "metadata": {},
   "outputs": [],
   "source": [
    "y1 = np.sort(df2['Amount']) #riordina"
   ]
  },
  {
   "cell_type": "code",
   "execution_count": 142,
   "id": "2e626111",
   "metadata": {},
   "outputs": [
    {
     "data": {
      "text/plain": [
       "74.2421439"
      ]
     },
     "execution_count": 142,
     "metadata": {},
     "output_type": "execute_result"
    }
   ],
   "source": [
    "np.sum(y1) #somma interessi"
   ]
  },
  {
   "cell_type": "code",
   "execution_count": 143,
   "id": "6b5249a1",
   "metadata": {},
   "outputs": [],
   "source": [
    "y2 = np.cumsum(y1)"
   ]
  },
  {
   "cell_type": "code",
   "execution_count": 144,
   "id": "d3a14c08",
   "metadata": {},
   "outputs": [
    {
     "data": {
      "text/plain": [
       "4.64013399375"
      ]
     },
     "execution_count": 144,
     "metadata": {},
     "output_type": "execute_result"
    }
   ],
   "source": [
    "np.mean(df2['Amount'])  #media"
   ]
  },
  {
   "cell_type": "code",
   "execution_count": 145,
   "id": "80bf2117",
   "metadata": {},
   "outputs": [
    {
     "data": {
      "text/plain": [
       "4.61370866"
      ]
     },
     "execution_count": 145,
     "metadata": {},
     "output_type": "execute_result"
    }
   ],
   "source": [
    "np.median(df2['Amount']) #mediana"
   ]
  },
  {
   "cell_type": "markdown",
   "id": "9de3763a",
   "metadata": {},
   "source": [
    "Plot"
   ]
  },
  {
   "cell_type": "code",
   "execution_count": 146,
   "id": "410c2410",
   "metadata": {},
   "outputs": [
    {
     "data": {
      "image/png": "[encoded data removed]",
      "text/plain": [
       "<Figure size 432x288 with 1 Axes>"
      ]
     },
     "metadata": {
      "needs_background": "light"
     },
     "output_type": "display_data"
    }
   ],
   "source": [
    "plt.plot(x1, y1,'r',x1, y2,'b--*',) #day interest\n",
    "plt.title(\"Interest\")\n",
    "plt.grid()\n",
    "plt.show()"
   ]
  },
  {
   "cell_type": "code",
   "execution_count": 147,
   "id": "5caf662c",
   "metadata": {},
   "outputs": [],
   "source": [
    "#save csv.file dataframe"
   ]
  }
 ],
 "metadata": {
  "kernelspec": {
   "display_name": "Python 3",
   "language": "python",
   "name": "python3"
  },
  "language_info": {
   "codemirror_mode": {
    "name": "ipython",
    "version": 3
   },
   "file_extension": ".py",
   "mimetype": "text/x-python",
   "name": "python",
   "nbconvert_exporter": "python",
   "pygments_lexer": "ipython3",
   "version": "3.8.8"
  }
 },
 "nbformat": 4,
 "nbformat_minor": 5
}
