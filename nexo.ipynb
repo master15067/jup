{
  "nbformat": 4,
  "nbformat_minor": 5,
  "metadata": {
    "kernelspec": {
      "display_name": "Python 3",
      "language": "python",
      "name": "python3"
    },
    "language_info": {
      "codemirror_mode": {
        "name": "ipython",
        "version": 3
      },
      "file_extension": ".py",
      "mimetype": "text/x-python",
      "name": "python",
      "nbconvert_exporter": "python",
      "pygments_lexer": "ipython3",
      "version": "3.8.8"
    },
    "colab": {
      "name": "nexo.ipynb",
      "private_outputs": true,
      "provenance": [],
      "collapsed_sections": [],
      "toc_visible": true,
      "include_colab_link": true
    }
  },
  "cells": [
    {
      "cell_type": "markdown",
      "metadata": {
        "id": "view-in-github",
        "colab_type": "text"
      },
      "source": [
        "<a href=\"https://colab.research.google.com/github/master15067/jup/blob/main/nexo.ipynb\" target=\"_parent\"><img src=\"https://colab.research.google.com/assets/colab-badge.svg\" alt=\"Open In Colab\"/></a>"
      ]
    },
    {
      "cell_type": "markdown",
      "metadata": {
        "id": "meTCBASIPzij"
      },
      "source": [
        "***google***"
      ],
      "id": "meTCBASIPzij"
    },
    {
      "cell_type": "code",
      "metadata": {
        "id": "hDBp2agSMpNk"
      },
      "source": [
        "from google.colab import drive\n",
        "drive.mount('/content/drive')"
      ],
      "id": "hDBp2agSMpNk",
      "execution_count": null,
      "outputs": []
    },
    {
      "cell_type": "code",
      "metadata": {
        "id": "0kaIXFr8PxCx"
      },
      "source": [
        "# Can be used to display large pandas dataframes as an interactive data table\n",
        "%load_ext google.colab.data_table"
      ],
      "id": "0kaIXFr8PxCx",
      "execution_count": null,
      "outputs": []
    },
    {
      "cell_type": "markdown",
      "metadata": {
        "id": "2udNxuBiO2MV"
      },
      "source": [
        "***import***"
      ],
      "id": "2udNxuBiO2MV"
    },
    {
      "cell_type": "code",
      "metadata": {
        "id": "32f6216d"
      },
      "source": [
        "import pandas as pd"
      ],
      "id": "32f6216d",
      "execution_count": null,
      "outputs": []
    },
    {
      "cell_type": "code",
      "metadata": {
        "id": "5b9bfd38"
      },
      "source": [
        "import numpy as np"
      ],
      "id": "5b9bfd38",
      "execution_count": null,
      "outputs": []
    },
    {
      "cell_type": "code",
      "metadata": {
        "id": "ee3f7334"
      },
      "source": [
        "import matplotlib as plt"
      ],
      "id": "ee3f7334",
      "execution_count": null,
      "outputs": []
    },
    {
      "cell_type": "markdown",
      "metadata": {
        "id": "Rd4L4fisQB5j"
      },
      "source": [
        "***database***"
      ],
      "id": "Rd4L4fisQB5j"
    },
    {
      "cell_type": "code",
      "metadata": {
        "id": "YPtnzwGRlHEP"
      },
      "source": [
        "df = pd.read_csv('/content/drive/MyDrive/Colab Notebooks/Colab_Nexo/nexo_bigquery.csv')\n"
      ],
      "id": "YPtnzwGRlHEP",
      "execution_count": null,
      "outputs": []
    },
    {
      "cell_type": "code",
      "metadata": {
        "id": "Myr05w-8l50a"
      },
      "source": [
        "df[\"Date\"] = pd.to_datetime(df[\"Date\"]) #convert date time"
      ],
      "id": "Myr05w-8l50a",
      "execution_count": null,
      "outputs": []
    },
    {
      "cell_type": "code",
      "metadata": {
        "id": "-bScFcOtlI3b"
      },
      "source": [
        "df.info()"
      ],
      "id": "-bScFcOtlI3b",
      "execution_count": null,
      "outputs": []
    },
    {
      "cell_type": "code",
      "metadata": {
        "id": "OH19HHnqS2mK"
      },
      "source": [
        "df = df[['Date','Type','Currency','Amount','USD','Details']]\n"
      ],
      "id": "OH19HHnqS2mK",
      "execution_count": null,
      "outputs": []
    },
    {
      "cell_type": "code",
      "metadata": {
        "id": "j0ERCrUtUvfx"
      },
      "source": [
        "#df.query(\" Type=='Interest' or Type=='InterestAdditional' or Type=='InterestDiscount'\",inplace=True)"
      ],
      "id": "j0ERCrUtUvfx",
      "execution_count": null,
      "outputs": []
    },
    {
      "cell_type": "code",
      "metadata": {
        "id": "jMRH7IhGnMuq"
      },
      "source": [
        "df.head()"
      ],
      "id": "jMRH7IhGnMuq",
      "execution_count": null,
      "outputs": []
    },
    {
      "cell_type": "code",
      "metadata": {
        "id": "kXuGAjMynj_L"
      },
      "source": [
        "df.to_csv('/content/drive/MyDrive/Colab Notebooks/Colab_Nexo/nexo_studio.csv')\n"
      ],
      "id": "kXuGAjMynj_L",
      "execution_count": null,
      "outputs": []
    },
    {
      "cell_type": "code",
      "metadata": {
        "id": "P1bavWEkQHyA"
      },
      "source": [
        "#df.groupby('Type').sum()"
      ],
      "id": "P1bavWEkQHyA",
      "execution_count": null,
      "outputs": []
    }
  ]
}