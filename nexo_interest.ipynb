{
 "cells": [
  {
   "cell_type": "code",
   "execution_count": 1,
   "id": "32f6216d",
   "metadata": {},
   "outputs": [],
   "source": [
    "import pandas as pd"
   ]
  },
  {
   "cell_type": "code",
   "execution_count": 2,
   "id": "5b9bfd38",
   "metadata": {},
   "outputs": [],
   "source": [
    "import numpy as np"
   ]
  },
  {
   "cell_type": "code",
   "execution_count": 3,
   "id": "ee3f7334",
   "metadata": {},
   "outputs": [],
   "source": [
    "import matplotlib as plt"
   ]
  },
  {
   "cell_type": "code",
   "execution_count": 4,
   "id": "c6dada41",
   "metadata": {},
   "outputs": [],
   "source": [
    "df0 = pd.read_csv('nexo_transactions.csv')"
   ]
  },
  {
   "cell_type": "code",
   "execution_count": 5,
   "id": "2c0cdc13",
   "metadata": {},
   "outputs": [],
   "source": [
    "df0.rename(columns = {'USD Equivalent': 'USD', 'Outstanding Loan':'Loan', 'Date / Time':'Date'}, inplace = True)"
   ]
  },
  {
   "cell_type": "code",
   "execution_count": 6,
   "id": "670c8905",
   "metadata": {},
   "outputs": [],
   "source": [
    "df0.replace(regex = {'\\$':''}, inplace = True)"
   ]
  },
  {
   "cell_type": "code",
   "execution_count": 7,
   "id": "7469636a",
   "metadata": {
    "tags": []
   },
   "outputs": [],
   "source": [
    "df0['Date'] = pd.to_datetime(df0[\"Date\"]) #convert date time"
   ]
  },
  {
   "cell_type": "code",
   "execution_count": 8,
   "id": "c0822375",
   "metadata": {},
   "outputs": [],
   "source": [
    "df0['USD'] = pd.to_numeric(df0[\"USD\"]) #convert date time"
   ]
  },
  {
   "cell_type": "code",
   "execution_count": 9,
   "id": "09241c29",
   "metadata": {},
   "outputs": [],
   "source": [
    "df0.replace(regex = {'NEXONEXO':'NEXO'}, inplace = True)"
   ]
  },
  {
   "cell_type": "code",
   "execution_count": 10,
   "id": "a5c5c943",
   "metadata": {},
   "outputs": [],
   "source": [
    "df0 = df0.query(\" Type == 'Interest' \")"
   ]
  },
  {
   "cell_type": "code",
   "execution_count": 11,
   "id": "6e90b65c",
   "metadata": {},
   "outputs": [],
   "source": [
    "df0.replace(regex = {'NEXOUSD':'NEXO'}, inplace = True)"
   ]
  },
  {
   "cell_type": "code",
   "execution_count": 12,
   "id": "8c2a9f40",
   "metadata": {},
   "outputs": [],
   "source": [
    "#df0.query(\" Type == 'Interest'\").groupby('Currency').count()"
   ]
  },
  {
   "cell_type": "code",
   "execution_count": 13,
   "id": "98a25993",
   "metadata": {},
   "outputs": [],
   "source": [
    "df0 = df0.query(\" Type == 'Interest'\")"
   ]
  },
  {
   "cell_type": "code",
   "execution_count": 14,
   "id": "f6909190",
   "metadata": {},
   "outputs": [],
   "source": [
    "df0.to_csv('nexo_interest.csv')"
   ]
  },
  {
   "cell_type": "code",
   "execution_count": 15,
   "id": "ace4f334",
   "metadata": {},
   "outputs": [],
   "source": [
    "df1 = df0.query(\" Type == 'Interest' and Currency == 'USD'\")"
   ]
  },
  {
   "cell_type": "code",
   "execution_count": 16,
   "id": "fdc50978",
   "metadata": {},
   "outputs": [],
   "source": [
    "df2 = df0.query(\" Type == 'Interest' and Currency == 'NEXO'\")"
   ]
  },
  {
   "cell_type": "code",
   "execution_count": 17,
   "id": "c93b0c35",
   "metadata": {},
   "outputs": [
    {
     "data": {
      "text/plain": [
       "89.94468203002849"
      ]
     },
     "execution_count": 17,
     "metadata": {},
     "output_type": "execute_result"
    }
   ],
   "source": [
    "np.array(df1['USD']).sum()"
   ]
  },
  {
   "cell_type": "code",
   "execution_count": 18,
   "id": "6047eb6f",
   "metadata": {},
   "outputs": [
    {
     "data": {
      "text/plain": [
       "-0.13"
      ]
     },
     "execution_count": 18,
     "metadata": {},
     "output_type": "execute_result"
    }
   ],
   "source": [
    "np.median(df1['Amount']) "
   ]
  },
  {
   "cell_type": "code",
   "execution_count": 19,
   "id": "5e6161fc",
   "metadata": {},
   "outputs": [
    {
     "data": {
      "text/plain": [
       "-0.19137166389361707"
      ]
     },
     "execution_count": 19,
     "metadata": {},
     "output_type": "execute_result"
    }
   ],
   "source": [
    "np.mean(df1['Amount']) "
   ]
  },
  {
   "cell_type": "code",
   "execution_count": 20,
   "id": "82ecfc8a",
   "metadata": {},
   "outputs": [
    {
     "data": {
      "text/plain": [
       "-0.6"
      ]
     },
     "execution_count": 20,
     "metadata": {},
     "output_type": "execute_result"
    }
   ],
   "source": [
    "np.min(df1['Amount']) "
   ]
  },
  {
   "cell_type": "code",
   "execution_count": 21,
   "id": "e3109f88",
   "metadata": {},
   "outputs": [
    {
     "data": {
      "text/plain": [
       "88.21900402"
      ]
     },
     "execution_count": 21,
     "metadata": {},
     "output_type": "execute_result"
    }
   ],
   "source": [
    "np.array(df2['Amount']).sum()"
   ]
  },
  {
   "cell_type": "code",
   "execution_count": 22,
   "id": "697ea180",
   "metadata": {},
   "outputs": [
    {
     "data": {
      "text/plain": [
       "0.092682975"
      ]
     },
     "execution_count": 22,
     "metadata": {},
     "output_type": "execute_result"
    }
   ],
   "source": [
    "np.median(df2['Amount']) "
   ]
  },
  {
   "cell_type": "code",
   "execution_count": 23,
   "id": "ec58ffea",
   "metadata": {},
   "outputs": [
    {
     "data": {
      "text/plain": [
       "0.42848376"
      ]
     },
     "execution_count": 23,
     "metadata": {},
     "output_type": "execute_result"
    }
   ],
   "source": [
    "np.max(df2['Amount']) "
   ]
  },
  {
   "cell_type": "code",
   "execution_count": 24,
   "id": "b4b71991",
   "metadata": {},
   "outputs": [
    {
     "data": {
      "text/html": [
       "<div>\n",
       "<style scoped>\n",
       "    .dataframe tbody tr th:only-of-type {\n",
       "        vertical-align: middle;\n",
       "    }\n",
       "\n",
       "    .dataframe tbody tr th {\n",
       "        vertical-align: top;\n",
       "    }\n",
       "\n",
       "    .dataframe thead th {\n",
       "        text-align: right;\n",
       "    }\n",
       "</style>\n",
       "<table border=\"1\" class=\"dataframe\">\n",
       "  <thead>\n",
       "    <tr style=\"text-align: right;\">\n",
       "      <th></th>\n",
       "      <th>Transaction</th>\n",
       "      <th>Type</th>\n",
       "      <th>Currency</th>\n",
       "      <th>Amount</th>\n",
       "      <th>USD</th>\n",
       "      <th>Details</th>\n",
       "      <th>Loan</th>\n",
       "      <th>Date</th>\n",
       "    </tr>\n",
       "  </thead>\n",
       "  <tbody>\n",
       "    <tr>\n",
       "      <th>0</th>\n",
       "      <td>NXTx1hHFv3LCT</td>\n",
       "      <td>Interest</td>\n",
       "      <td>NEXO</td>\n",
       "      <td>0.094201</td>\n",
       "      <td>0.260280</td>\n",
       "      <td>approved / 0.22127317 EURx</td>\n",
       "      <td>3488.49</td>\n",
       "      <td>2021-04-05 01:00:03</td>\n",
       "    </tr>\n",
       "    <tr>\n",
       "      <th>1</th>\n",
       "      <td>NXTAXFw7FXTT0</td>\n",
       "      <td>Interest</td>\n",
       "      <td>NEXO</td>\n",
       "      <td>0.054542</td>\n",
       "      <td>0.150702</td>\n",
       "      <td>approved / 0.00007234 ETH</td>\n",
       "      <td>3488.49</td>\n",
       "      <td>2021-04-05 01:00:03</td>\n",
       "    </tr>\n",
       "    <tr>\n",
       "      <th>2</th>\n",
       "      <td>NXThKvQuIYaXP</td>\n",
       "      <td>Interest</td>\n",
       "      <td>NEXO</td>\n",
       "      <td>0.022573</td>\n",
       "      <td>0.062369</td>\n",
       "      <td>approved / 0.04511758 GBPx</td>\n",
       "      <td>3488.49</td>\n",
       "      <td>2021-04-05 01:00:03</td>\n",
       "    </tr>\n",
       "    <tr>\n",
       "      <th>3</th>\n",
       "      <td>NXT3tJg8TIqBP</td>\n",
       "      <td>Interest</td>\n",
       "      <td>NEXO</td>\n",
       "      <td>0.085492</td>\n",
       "      <td>0.236217</td>\n",
       "      <td>approved / 0.00000403 BTC</td>\n",
       "      <td>3488.49</td>\n",
       "      <td>2021-04-05 01:00:03</td>\n",
       "    </tr>\n",
       "    <tr>\n",
       "      <th>5</th>\n",
       "      <td>NXTkP2gZEBd8O</td>\n",
       "      <td>Interest</td>\n",
       "      <td>NEXO</td>\n",
       "      <td>0.096329</td>\n",
       "      <td>0.260202</td>\n",
       "      <td>approved / 0.22127317 EURx</td>\n",
       "      <td>3487.92</td>\n",
       "      <td>2021-04-04 01:00:03</td>\n",
       "    </tr>\n",
       "  </tbody>\n",
       "</table>\n",
       "</div>"
      ],
      "text/plain": [
       "     Transaction      Type Currency    Amount       USD  \\\n",
       "0  NXTx1hHFv3LCT  Interest     NEXO  0.094201  0.260280   \n",
       "1  NXTAXFw7FXTT0  Interest     NEXO  0.054542  0.150702   \n",
       "2  NXThKvQuIYaXP  Interest     NEXO  0.022573  0.062369   \n",
       "3  NXT3tJg8TIqBP  Interest     NEXO  0.085492  0.236217   \n",
       "5  NXTkP2gZEBd8O  Interest     NEXO  0.096329  0.260202   \n",
       "\n",
       "                      Details     Loan                Date  \n",
       "0  approved / 0.22127317 EURx  3488.49 2021-04-05 01:00:03  \n",
       "1   approved / 0.00007234 ETH  3488.49 2021-04-05 01:00:03  \n",
       "2  approved / 0.04511758 GBPx  3488.49 2021-04-05 01:00:03  \n",
       "3   approved / 0.00000403 BTC  3488.49 2021-04-05 01:00:03  \n",
       "5  approved / 0.22127317 EURx  3487.92 2021-04-04 01:00:03  "
      ]
     },
     "execution_count": 24,
     "metadata": {},
     "output_type": "execute_result"
    }
   ],
   "source": [
    "df2.head()"
   ]
  },
  {
   "cell_type": "code",
   "execution_count": 25,
   "id": "67984d87",
   "metadata": {
    "tags": []
   },
   "outputs": [
    {
     "data": {
      "text/html": [
       "<div>\n",
       "<style scoped>\n",
       "    .dataframe tbody tr th:only-of-type {\n",
       "        vertical-align: middle;\n",
       "    }\n",
       "\n",
       "    .dataframe tbody tr th {\n",
       "        vertical-align: top;\n",
       "    }\n",
       "\n",
       "    .dataframe thead th {\n",
       "        text-align: right;\n",
       "    }\n",
       "</style>\n",
       "<table border=\"1\" class=\"dataframe\">\n",
       "  <thead>\n",
       "    <tr style=\"text-align: right;\">\n",
       "      <th></th>\n",
       "      <th>Transaction</th>\n",
       "      <th>Type</th>\n",
       "      <th>Currency</th>\n",
       "      <th>Amount</th>\n",
       "      <th>USD</th>\n",
       "      <th>Details</th>\n",
       "      <th>Loan</th>\n",
       "      <th>Date</th>\n",
       "    </tr>\n",
       "  </thead>\n",
       "  <tbody>\n",
       "    <tr>\n",
       "      <th>3097</th>\n",
       "      <td>NXT6E3jsBr6Ps</td>\n",
       "      <td>Interest</td>\n",
       "      <td>NEXO</td>\n",
       "      <td>0.007289</td>\n",
       "      <td>0.0</td>\n",
       "      <td>approved / USD Interest Earned</td>\n",
       "      <td>0.00</td>\n",
       "      <td>2019-08-11 01:00:05</td>\n",
       "    </tr>\n",
       "    <tr>\n",
       "      <th>3098</th>\n",
       "      <td>NXTJGMO0nNEoo</td>\n",
       "      <td>Interest</td>\n",
       "      <td>NEXO</td>\n",
       "      <td>0.007287</td>\n",
       "      <td>0.0</td>\n",
       "      <td>approved / USD Interest Earned</td>\n",
       "      <td>0.00</td>\n",
       "      <td>2019-08-10 01:00:05</td>\n",
       "    </tr>\n",
       "    <tr>\n",
       "      <th>3100</th>\n",
       "      <td>NXTGPx27JuuOE</td>\n",
       "      <td>Interest</td>\n",
       "      <td>NEXO</td>\n",
       "      <td>0.007001</td>\n",
       "      <td>0.0</td>\n",
       "      <td>approved / USD Interest Earned</td>\n",
       "      <td>0.00</td>\n",
       "      <td>2019-08-09 01:00:05</td>\n",
       "    </tr>\n",
       "    <tr>\n",
       "      <th>3101</th>\n",
       "      <td>NXT69qnVEJ60F</td>\n",
       "      <td>Interest</td>\n",
       "      <td>NEXO</td>\n",
       "      <td>0.007000</td>\n",
       "      <td>0.0</td>\n",
       "      <td>approved / USD Interest Earned</td>\n",
       "      <td>0.00</td>\n",
       "      <td>2019-08-08 01:00:05</td>\n",
       "    </tr>\n",
       "    <tr>\n",
       "      <th>3104</th>\n",
       "      <td>NXTBEO559llTJ</td>\n",
       "      <td>Interest</td>\n",
       "      <td>NEXO</td>\n",
       "      <td>0.002503</td>\n",
       "      <td>0.0</td>\n",
       "      <td>approved / USD Interest Earned</td>\n",
       "      <td>0.00</td>\n",
       "      <td>2019-08-07 01:00:05</td>\n",
       "    </tr>\n",
       "  </tbody>\n",
       "</table>\n",
       "</div>"
      ],
      "text/plain": [
       "        Transaction      Type Currency    Amount  USD  \\\n",
       "3097  NXT6E3jsBr6Ps  Interest     NEXO  0.007289  0.0   \n",
       "3098  NXTJGMO0nNEoo  Interest     NEXO  0.007287  0.0   \n",
       "3100  NXTGPx27JuuOE  Interest     NEXO  0.007001  0.0   \n",
       "3101  NXT69qnVEJ60F  Interest     NEXO  0.007000  0.0   \n",
       "3104  NXTBEO559llTJ  Interest     NEXO  0.002503  0.0   \n",
       "\n",
       "                             Details  Loan                Date  \n",
       "3097  approved / USD Interest Earned  0.00 2019-08-11 01:00:05  \n",
       "3098  approved / USD Interest Earned  0.00 2019-08-10 01:00:05  \n",
       "3100  approved / USD Interest Earned  0.00 2019-08-09 01:00:05  \n",
       "3101  approved / USD Interest Earned  0.00 2019-08-08 01:00:05  \n",
       "3104  approved / USD Interest Earned  0.00 2019-08-07 01:00:05  "
      ]
     },
     "execution_count": 25,
     "metadata": {},
     "output_type": "execute_result"
    }
   ],
   "source": [
    "df2.tail()"
   ]
  },
  {
   "cell_type": "code",
   "execution_count": null,
   "id": "1ce445c3",
   "metadata": {},
   "outputs": [],
   "source": []
  }
 ],
 "metadata": {
  "kernelspec": {
   "display_name": "Python 3",
   "language": "python",
   "name": "python3"
  },
  "language_info": {
   "codemirror_mode": {
    "name": "ipython",
    "version": 3
   },
   "file_extension": ".py",
   "mimetype": "text/x-python",
   "name": "python",
   "nbconvert_exporter": "python",
   "pygments_lexer": "ipython3",
   "version": "3.8.8"
  }
 },
 "nbformat": 4,
 "nbformat_minor": 5
}
