{
  "nbformat": 4,
  "nbformat_minor": 0,
  "metadata": {
    "colab": {
      "name": "gh_nexo.ipynb",
      "provenance": [],
      "collapsed_sections": [
        "0GbAbHTD4ca8",
        "08mmEexd4-mz",
        "bx5ol0pfhm4v"
      ],
      "toc_visible": true
    },
    "kernelspec": {
      "name": "python3",
      "display_name": "Python 3"
    },
    "language_info": {
      "name": "python"
    }
  },
  "cells": [
    {
      "cell_type": "markdown",
      "metadata": {
        "id": "Oe3gGgHqfKlu"
      },
      "source": [
        "#Import library"
      ]
    },
    {
      "cell_type": "code",
      "metadata": {
        "id": "4ldby-yZfKLh"
      },
      "source": [
        "import pandas as pd\n",
        "import numpy as np\n",
        "import matplotlib as plt"
      ],
      "execution_count": null,
      "outputs": []
    },
    {
      "cell_type": "markdown",
      "metadata": {
        "id": "gbqUuL1N4zcR"
      },
      "source": [
        "#Import csv"
      ]
    },
    {
      "cell_type": "code",
      "metadata": {
        "id": "Gg2sNva8m9-U"
      },
      "source": [
        "df = df.read_csv('nexo_bigquery.csv')"
      ],
      "execution_count": null,
      "outputs": []
    },
    {
      "cell_type": "code",
      "metadata": {
        "id": "cxddjGe_5XPK"
      },
      "source": [
        "#df.info()"
      ],
      "execution_count": null,
      "outputs": []
    },
    {
      "cell_type": "code",
      "metadata": {
        "id": "2mAwQ5B1ndO4"
      },
      "source": [
        "#rename columns\n",
        "df.rename(columns = {'USD_Equivalent': 'USD', 'Outstanding_Loan':'Loan', 'Date___Time':'Date'}, inplace = True)"
      ],
      "execution_count": null,
      "outputs": []
    },
    {
      "cell_type": "markdown",
      "metadata": {
        "id": "0GbAbHTD4ca8"
      },
      "source": [
        "#Replace currency"
      ]
    },
    {
      "cell_type": "markdown",
      "metadata": {
        "id": "srJ2VUVffdhf"
      },
      "source": [
        ""
      ]
    },
    {
      "cell_type": "code",
      "metadata": {
        "id": "dp4ZfKZ40qUn"
      },
      "source": [
        "df.replace(regex = {'USDTERC':'USDT'},inplace = True)"
      ],
      "execution_count": null,
      "outputs": []
    },
    {
      "cell_type": "code",
      "metadata": {
        "id": "M8Ij_2WY0O2K"
      },
      "source": [
        "df.replace(regex = {'XLMUSDT':'USDT'},inplace = True)"
      ],
      "execution_count": null,
      "outputs": []
    },
    {
      "cell_type": "code",
      "metadata": {
        "id": "SHMGtqLe6Hja"
      },
      "source": [
        "df.replace(regex={'XLMHUSD':'HUSD'},inplace=True)"
      ],
      "execution_count": null,
      "outputs": []
    },
    {
      "cell_type": "code",
      "metadata": {
        "id": "Q8RV9AEK6cLr"
      },
      "source": [
        "df.replace(regex={'XLMBTC':'BTC'},inplace=True)"
      ],
      "execution_count": null,
      "outputs": []
    },
    {
      "cell_type": "code",
      "metadata": {
        "id": "I1jO4i700tkL"
      },
      "source": [
        "df.replace(regex = {'LINKUSDC':'USDC'},inplace = True)"
      ],
      "execution_count": null,
      "outputs": []
    },
    {
      "cell_type": "code",
      "metadata": {
        "id": "Ocz5d0M16tN5"
      },
      "source": [
        "df.replace(regex={'TRXPAX':'PAX'},inplace=True)"
      ],
      "execution_count": null,
      "outputs": []
    },
    {
      "cell_type": "code",
      "metadata": {
        "id": "vOvBxe6y6-FI"
      },
      "source": [
        "df.replace(regex={'TRXEURX':'EUR'},inplace=True)"
      ],
      "execution_count": null,
      "outputs": []
    },
    {
      "cell_type": "code",
      "metadata": {
        "id": "b08Hmklp7SzT"
      },
      "source": [
        "df.replace(regex={'PAXTRX':'TRX'},inplace=True)"
      ],
      "execution_count": null,
      "outputs": []
    },
    {
      "cell_type": "code",
      "metadata": {
        "id": "vkwPpjuA3M5w"
      },
      "source": [
        "df.replace(regex = {'NEXONEXOBTC':'BTC'},inplace = True)"
      ],
      "execution_count": null,
      "outputs": []
    },
    {
      "cell_type": "code",
      "metadata": {
        "id": "y_UptT3r-CXh"
      },
      "source": [
        "df.replace(regex={'BTCDAI':'DAI'},inplace=True)"
      ],
      "execution_count": null,
      "outputs": []
    },
    {
      "cell_type": "code",
      "metadata": {
        "id": "sqDO0aiIHWR5"
      },
      "source": [
        "df.replace(regex={'ETHEURX':'EUR'},inplace=True)"
      ],
      "execution_count": null,
      "outputs": []
    },
    {
      "cell_type": "code",
      "metadata": {
        "id": "X1da7i45Jb8V"
      },
      "source": [
        "df.replace(regex={'EURXETH':'ETH'},inplace=True)"
      ],
      "execution_count": null,
      "outputs": []
    },
    {
      "cell_type": "code",
      "metadata": {
        "id": "uXOA7wmjHsIu"
      },
      "source": [
        "df.replace(regex={'BTCEURX':'EUR'},inplace=True)"
      ],
      "execution_count": null,
      "outputs": []
    },
    {
      "cell_type": "code",
      "metadata": {
        "id": "Uun9zbNmJOGN"
      },
      "source": [
        "df.replace(regex={'EURXBTC':'BTC'},inplace=True)"
      ],
      "execution_count": null,
      "outputs": []
    },
    {
      "cell_type": "code",
      "metadata": {
        "id": "CfH4Rj6lIHv2"
      },
      "source": [
        "df.replace(regex={'BTCGBPX':'GBP'},inplace=True)"
      ],
      "execution_count": null,
      "outputs": []
    },
    {
      "cell_type": "code",
      "metadata": {
        "id": "xN_vZR2RIYs1"
      },
      "source": [
        "df.replace(regex={'BTCUSDC':'USDC'},inplace=True)"
      ],
      "execution_count": null,
      "outputs": []
    },
    {
      "cell_type": "code",
      "metadata": {
        "id": "U8JM61EbIqCR"
      },
      "source": [
        "df.replace(regex={'ETHGBPX':'GBP'},inplace=True)"
      ],
      "execution_count": null,
      "outputs": []
    },
    {
      "cell_type": "code",
      "metadata": {
        "id": "klfsCKYZI7Kf"
      },
      "source": [
        "df.replace(regex={'ETHTRX':'TRX'},inplace=True)"
      ],
      "execution_count": null,
      "outputs": []
    },
    {
      "cell_type": "code",
      "metadata": {
        "id": "IW_R2LnlJsNP"
      },
      "source": [
        "df.replace(regex={'LTCBTC':'BTC'},inplace=True)"
      ],
      "execution_count": null,
      "outputs": []
    },
    {
      "cell_type": "code",
      "metadata": {
        "id": "yz80-F0WKAg1"
      },
      "source": [
        "df.replace(regex={'LTCUSDC':'USDC'},inplace=True)"
      ],
      "execution_count": null,
      "outputs": []
    },
    {
      "cell_type": "code",
      "metadata": {
        "id": "9-wz0gG7KTIt"
      },
      "source": [
        "df.replace(regex={'NEXOBNBETH':'ETH'},inplace=True)"
      ],
      "execution_count": null,
      "outputs": []
    },
    {
      "cell_type": "code",
      "metadata": {
        "id": "EaNbP7AzKlpU"
      },
      "source": [
        "df.replace(regex={'NEXOBNBUSDC':'USDC'},inplace=True)"
      ],
      "execution_count": null,
      "outputs": []
    },
    {
      "cell_type": "code",
      "metadata": {
        "id": "YlZ2uw_RK4G8"
      },
      "source": [
        "df.replace(regex={'NEXONEXOETH':'ETH'},inplace=True)"
      ],
      "execution_count": null,
      "outputs": []
    },
    {
      "cell_type": "code",
      "metadata": {
        "id": "tlIvc9OR78BQ"
      },
      "source": [
        "df.replace(regex={'ETHPAX':'PAX'},inplace=True)"
      ],
      "execution_count": null,
      "outputs": []
    },
    {
      "cell_type": "code",
      "metadata": {
        "id": "LFPn1J9dHyPP"
      },
      "source": [
        "df.replace(regex={'GBPX':'GBP'},inplace=True)"
      ],
      "execution_count": null,
      "outputs": []
    },
    {
      "cell_type": "code",
      "metadata": {
        "id": "nZR1cxTkRIO6"
      },
      "source": [
        "df.replace(regex={'ETHUSDC':'USDC'},inplace=True)"
      ],
      "execution_count": null,
      "outputs": []
    },
    {
      "cell_type": "markdown",
      "metadata": {
        "id": "08mmEexd4-mz"
      },
      "source": [
        "#Set new value with conditions"
      ]
    },
    {
      "cell_type": "code",
      "metadata": {
        "id": "44G5JE8uyQxR"
      },
      "source": [
        "df.loc[(df['Type']=='Interest') & (df['Currency']=='NEXONEXO') & (df['USD']>0), ['Currency']]='NEXO'"
      ],
      "execution_count": null,
      "outputs": []
    },
    {
      "cell_type": "code",
      "metadata": {
        "id": "XjeNNzc4lVD6"
      },
      "source": [
        "df.loc[(df['Type'] == 'Interest') & (df['Currency']=='NEXOUSD') & (df['USD']==0), ['Currency']]  = 'USD'"
      ],
      "execution_count": null,
      "outputs": []
    },
    {
      "cell_type": "code",
      "metadata": {
        "id": "n-rdUhUYqcU4"
      },
      "source": [
        "df.loc[(df['Type'] == 'Interest') & (df['Currency']=='NEXO') & (df['USD']==0), ['Currency']]  = 'NEXO'"
      ],
      "execution_count": null,
      "outputs": []
    },
    {
      "cell_type": "code",
      "metadata": {
        "id": "rqIITW-ml4S8"
      },
      "source": [
        "df.loc[(df['Currency']=='NEXOBNB'),['Currency']]='BNB'"
      ],
      "execution_count": null,
      "outputs": []
    },
    {
      "cell_type": "code",
      "metadata": {
        "id": "UMKuQCkUr5EV"
      },
      "source": [
        "df.loc[(df['Details'] == 'approved / BNB withdrawal\t'), ['Currency']]  = 'BNB'"
      ],
      "execution_count": null,
      "outputs": []
    },
    {
      "cell_type": "code",
      "metadata": {
        "id": "ZWRjW1Sqn-9A"
      },
      "source": [
        "df.loc[(df['Details'] == 'approved / Exchange NEXO Token to Tether') & (df['Currency']=='NEXONEXOUSDT'), ['Currency']]  = 'USDT'"
      ],
      "execution_count": null,
      "outputs": []
    },
    {
      "cell_type": "code",
      "metadata": {
        "id": "FCWUQrDhoZOt"
      },
      "source": [
        "df.loc[(df['Type'] == 'Deposit') & (df['Currency']=='NEXOBEP2'), ['Currency']]  = 'NEXO'"
      ],
      "execution_count": null,
      "outputs": []
    },
    {
      "cell_type": "code",
      "metadata": {
        "id": "IaKgalZG1OOp"
      },
      "source": [
        "df.loc[(df['Type'] == 'Liquidation') & (df['Currency']=='NEXONEXO'), ['Currency']]  = 'NEXO'"
      ],
      "execution_count": null,
      "outputs": []
    },
    {
      "cell_type": "code",
      "metadata": {
        "id": "TmaAK44i1j-R"
      },
      "source": [
        "df.loc[(df['Type'] == 'Withdrawal') & (df['Currency']=='NEXONEXO'),['Currency']]  = 'NEXO'"
      ],
      "execution_count": null,
      "outputs": []
    },
    {
      "cell_type": "code",
      "metadata": {
        "id": "t-d9DjKr2nkI"
      },
      "source": [
        "df.loc[(df['Type'] == 'TransferOut') & (df['Currency']=='NEXONEXO'), ['Currency']]  = 'NEXO'"
      ],
      "execution_count": null,
      "outputs": []
    },
    {
      "cell_type": "code",
      "metadata": {
        "id": "WXtOy9Cf8vRJ"
      },
      "source": [
        "df.loc[(df['Details']== 'approved / SAI withdrawal'),['Currency']] = 'DAI'"
      ],
      "execution_count": null,
      "outputs": []
    },
    {
      "cell_type": "code",
      "metadata": {
        "id": "IEbnroHm-jeg"
      },
      "source": [
        "df.loc[(df['Details']=='approved / DAI withdrawal'),['Currency']] = 'DAI'"
      ],
      "execution_count": null,
      "outputs": []
    },
    {
      "cell_type": "code",
      "metadata": {
        "id": "ZzR-bqV9_YYD"
      },
      "source": [
        "df.loc[(df['Details']=='approved / TUSD withdrawal') & (df['Currency']=='NEXOUSD'),['Currency']] = 'TUSD'"
      ],
      "execution_count": null,
      "outputs": []
    },
    {
      "cell_type": "code",
      "metadata": {
        "id": "g5OIblK6E34-"
      },
      "source": [
        "df.loc[(df['Details']=='approved / USDC withdrawal') & (df['Currency']=='NEXOUSD'),['Currency']]='USDC'"
      ],
      "execution_count": null,
      "outputs": []
    },
    {
      "cell_type": "code",
      "metadata": {
        "id": "ilpf4ZgIFbXx"
      },
      "source": [
        "df.loc[(df['Details']=='approved / PAX withdrawal') & (df['Currency']=='NEXOUSD'),['Currency']]='PAX'"
      ],
      "execution_count": null,
      "outputs": []
    },
    {
      "cell_type": "code",
      "metadata": {
        "id": "7_h4El_WGRDv"
      },
      "source": [
        "df.loc[(df['Type']=='Liquidation') & (df['Currency']=='NEXOUSD'),['Currency']]='USD'"
      ],
      "execution_count": null,
      "outputs": []
    },
    {
      "cell_type": "code",
      "metadata": {
        "id": "QBP77CvHG1m3"
      },
      "source": [
        "df.loc[(df['Type']=='Deposit')&(df['Currency']=='BNBN'),['Currency']]='BNB'"
      ],
      "execution_count": null,
      "outputs": []
    },
    {
      "cell_type": "markdown",
      "metadata": {
        "id": "bx5ol0pfhm4v"
      },
      "source": [
        "#Dataframe group"
      ]
    },
    {
      "cell_type": "code",
      "metadata": {
        "colab": {
          "base_uri": "https://localhost:8080/"
        },
        "id": "6ZFfXG0Po9WO",
        "outputId": "a6816cba-9b1f-422e-f3b9-5c46fa15f35f"
      },
      "source": [
        "#df\n",
        "df.groupby('Currency').count()"
      ],
      "execution_count": null,
      "outputs": [
        {
          "output_type": "execute_result",
          "data": {
            "application/vnd.google.colaboratory.module+javascript": "\n      import \"https://ssl.gstatic.com/colaboratory/data_table/a6224c040fa35dcf/data_table.js\";\n\n      window.createDataTable({\n        data: [[\"BCH\",\n{\n            'v': 113,\n            'f': \"113\",\n        },\n{\n            'v': 113,\n            'f': \"113\",\n        },\n{\n            'v': 113,\n            'f': \"113\",\n        },\n{\n            'v': 113,\n            'f': \"113\",\n        },\n{\n            'v': 113,\n            'f': \"113\",\n        },\n{\n            'v': 113,\n            'f': \"113\",\n        },\n{\n            'v': 113,\n            'f': \"113\",\n        }],\n [\"BNB\",\n{\n            'v': 23,\n            'f': \"23\",\n        },\n{\n            'v': 23,\n            'f': \"23\",\n        },\n{\n            'v': 23,\n            'f': \"23\",\n        },\n{\n            'v': 23,\n            'f': \"23\",\n        },\n{\n            'v': 23,\n            'f': \"23\",\n        },\n{\n            'v': 23,\n            'f': \"23\",\n        },\n{\n            'v': 23,\n            'f': \"23\",\n        }],\n [\"BTC\",\n{\n            'v': 165,\n            'f': \"165\",\n        },\n{\n            'v': 165,\n            'f': \"165\",\n        },\n{\n            'v': 165,\n            'f': \"165\",\n        },\n{\n            'v': 165,\n            'f': \"165\",\n        },\n{\n            'v': 165,\n            'f': \"165\",\n        },\n{\n            'v': 165,\n            'f': \"165\",\n        },\n{\n            'v': 165,\n            'f': \"165\",\n        }],\n [\"DAI\",\n{\n            'v': 108,\n            'f': \"108\",\n        },\n{\n            'v': 108,\n            'f': \"108\",\n        },\n{\n            'v': 108,\n            'f': \"108\",\n        },\n{\n            'v': 108,\n            'f': \"108\",\n        },\n{\n            'v': 108,\n            'f': \"108\",\n        },\n{\n            'v': 108,\n            'f': \"108\",\n        },\n{\n            'v': 108,\n            'f': \"108\",\n        }],\n [\"EOS\",\n{\n            'v': 92,\n            'f': \"92\",\n        },\n{\n            'v': 92,\n            'f': \"92\",\n        },\n{\n            'v': 92,\n            'f': \"92\",\n        },\n{\n            'v': 92,\n            'f': \"92\",\n        },\n{\n            'v': 92,\n            'f': \"92\",\n        },\n{\n            'v': 92,\n            'f': \"92\",\n        },\n{\n            'v': 92,\n            'f': \"92\",\n        }],\n [\"ETH\",\n{\n            'v': 100,\n            'f': \"100\",\n        },\n{\n            'v': 100,\n            'f': \"100\",\n        },\n{\n            'v': 100,\n            'f': \"100\",\n        },\n{\n            'v': 100,\n            'f': \"100\",\n        },\n{\n            'v': 100,\n            'f': \"100\",\n        },\n{\n            'v': 100,\n            'f': \"100\",\n        },\n{\n            'v': 100,\n            'f': \"100\",\n        }],\n [\"EUR\",\n{\n            'v': 14,\n            'f': \"14\",\n        },\n{\n            'v': 14,\n            'f': \"14\",\n        },\n{\n            'v': 14,\n            'f': \"14\",\n        },\n{\n            'v': 14,\n            'f': \"14\",\n        },\n{\n            'v': 14,\n            'f': \"14\",\n        },\n{\n            'v': 14,\n            'f': \"14\",\n        },\n{\n            'v': 14,\n            'f': \"14\",\n        }],\n [\"GBP\",\n{\n            'v': 4,\n            'f': \"4\",\n        },\n{\n            'v': 4,\n            'f': \"4\",\n        },\n{\n            'v': 4,\n            'f': \"4\",\n        },\n{\n            'v': 4,\n            'f': \"4\",\n        },\n{\n            'v': 4,\n            'f': \"4\",\n        },\n{\n            'v': 4,\n            'f': \"4\",\n        },\n{\n            'v': 4,\n            'f': \"4\",\n        }],\n [\"HUSD\",\n{\n            'v': 2,\n            'f': \"2\",\n        },\n{\n            'v': 2,\n            'f': \"2\",\n        },\n{\n            'v': 2,\n            'f': \"2\",\n        },\n{\n            'v': 2,\n            'f': \"2\",\n        },\n{\n            'v': 2,\n            'f': \"2\",\n        },\n{\n            'v': 2,\n            'f': \"2\",\n        },\n{\n            'v': 2,\n            'f': \"2\",\n        }],\n [\"LINK\",\n{\n            'v': 75,\n            'f': \"75\",\n        },\n{\n            'v': 75,\n            'f': \"75\",\n        },\n{\n            'v': 75,\n            'f': \"75\",\n        },\n{\n            'v': 75,\n            'f': \"75\",\n        },\n{\n            'v': 75,\n            'f': \"75\",\n        },\n{\n            'v': 75,\n            'f': \"75\",\n        },\n{\n            'v': 75,\n            'f': \"75\",\n        }],\n [\"LTC\",\n{\n            'v': 98,\n            'f': \"98\",\n        },\n{\n            'v': 98,\n            'f': \"98\",\n        },\n{\n            'v': 98,\n            'f': \"98\",\n        },\n{\n            'v': 98,\n            'f': \"98\",\n        },\n{\n            'v': 98,\n            'f': \"98\",\n        },\n{\n            'v': 98,\n            'f': \"98\",\n        },\n{\n            'v': 98,\n            'f': \"98\",\n        }],\n [\"NEXO\",\n{\n            'v': 638,\n            'f': \"638\",\n        },\n{\n            'v': 638,\n            'f': \"638\",\n        },\n{\n            'v': 638,\n            'f': \"638\",\n        },\n{\n            'v': 638,\n            'f': \"638\",\n        },\n{\n            'v': 638,\n            'f': \"638\",\n        },\n{\n            'v': 638,\n            'f': \"638\",\n        },\n{\n            'v': 638,\n            'f': \"638\",\n        }],\n [\"PAX\",\n{\n            'v': 219,\n            'f': \"219\",\n        },\n{\n            'v': 219,\n            'f': \"219\",\n        },\n{\n            'v': 219,\n            'f': \"219\",\n        },\n{\n            'v': 219,\n            'f': \"219\",\n        },\n{\n            'v': 219,\n            'f': \"219\",\n        },\n{\n            'v': 219,\n            'f': \"219\",\n        },\n{\n            'v': 219,\n            'f': \"219\",\n        }],\n [\"PAXG\",\n{\n            'v': 23,\n            'f': \"23\",\n        },\n{\n            'v': 23,\n            'f': \"23\",\n        },\n{\n            'v': 23,\n            'f': \"23\",\n        },\n{\n            'v': 23,\n            'f': \"23\",\n        },\n{\n            'v': 23,\n            'f': \"23\",\n        },\n{\n            'v': 23,\n            'f': \"23\",\n        },\n{\n            'v': 23,\n            'f': \"23\",\n        }],\n [\"TRX\",\n{\n            'v': 28,\n            'f': \"28\",\n        },\n{\n            'v': 28,\n            'f': \"28\",\n        },\n{\n            'v': 28,\n            'f': \"28\",\n        },\n{\n            'v': 28,\n            'f': \"28\",\n        },\n{\n            'v': 28,\n            'f': \"28\",\n        },\n{\n            'v': 28,\n            'f': \"28\",\n        },\n{\n            'v': 28,\n            'f': \"28\",\n        }],\n [\"TUSD\",\n{\n            'v': 97,\n            'f': \"97\",\n        },\n{\n            'v': 97,\n            'f': \"97\",\n        },\n{\n            'v': 97,\n            'f': \"97\",\n        },\n{\n            'v': 97,\n            'f': \"97\",\n        },\n{\n            'v': 97,\n            'f': \"97\",\n        },\n{\n            'v': 97,\n            'f': \"97\",\n        },\n{\n            'v': 97,\n            'f': \"97\",\n        }],\n [\"USD\",\n{\n            'v': 846,\n            'f': \"846\",\n        },\n{\n            'v': 846,\n            'f': \"846\",\n        },\n{\n            'v': 846,\n            'f': \"846\",\n        },\n{\n            'v': 846,\n            'f': \"846\",\n        },\n{\n            'v': 846,\n            'f': \"846\",\n        },\n{\n            'v': 846,\n            'f': \"846\",\n        },\n{\n            'v': 846,\n            'f': \"846\",\n        }],\n [\"USDC\",\n{\n            'v': 180,\n            'f': \"180\",\n        },\n{\n            'v': 180,\n            'f': \"180\",\n        },\n{\n            'v': 180,\n            'f': \"180\",\n        },\n{\n            'v': 180,\n            'f': \"180\",\n        },\n{\n            'v': 180,\n            'f': \"180\",\n        },\n{\n            'v': 180,\n            'f': \"180\",\n        },\n{\n            'v': 180,\n            'f': \"180\",\n        }],\n [\"USDT\",\n{\n            'v': 139,\n            'f': \"139\",\n        },\n{\n            'v': 139,\n            'f': \"139\",\n        },\n{\n            'v': 139,\n            'f': \"139\",\n        },\n{\n            'v': 139,\n            'f': \"139\",\n        },\n{\n            'v': 139,\n            'f': \"139\",\n        },\n{\n            'v': 139,\n            'f': \"139\",\n        },\n{\n            'v': 139,\n            'f': \"139\",\n        }],\n [\"XLM\",\n{\n            'v': 121,\n            'f': \"121\",\n        },\n{\n            'v': 121,\n            'f': \"121\",\n        },\n{\n            'v': 121,\n            'f': \"121\",\n        },\n{\n            'v': 121,\n            'f': \"121\",\n        },\n{\n            'v': 121,\n            'f': \"121\",\n        },\n{\n            'v': 121,\n            'f': \"121\",\n        },\n{\n            'v': 121,\n            'f': \"121\",\n        }],\n [\"XRP\",\n{\n            'v': 123,\n            'f': \"123\",\n        },\n{\n            'v': 123,\n            'f': \"123\",\n        },\n{\n            'v': 123,\n            'f': \"123\",\n        },\n{\n            'v': 123,\n            'f': \"123\",\n        },\n{\n            'v': 123,\n            'f': \"123\",\n        },\n{\n            'v': 123,\n            'f': \"123\",\n        },\n{\n            'v': 123,\n            'f': \"123\",\n        }]],\n        columns: [[\"string\", \"Currency\"], [\"number\", \"Transaction\"], [\"number\", \"Type\"], [\"number\", \"Amount\"], [\"number\", \"USD\"], [\"number\", \"Details\"], [\"number\", \"Loan\"], [\"number\", \"Date\"]],\n        columnOptions: [{\"width\": \"1px\", \"className\": \"index_column\"}],\n        rowsPerPage: 25,\n        helpUrl: \"https://colab.research.google.com/notebooks/data_table.ipynb\",\n        suppressOutputScrolling: true,\n        minimumWidth: undefined,\n      });\n    ",
            "text/html": [
              "<div>\n",
              "<style scoped>\n",
              "    .dataframe tbody tr th:only-of-type {\n",
              "        vertical-align: middle;\n",
              "    }\n",
              "\n",
              "    .dataframe tbody tr th {\n",
              "        vertical-align: top;\n",
              "    }\n",
              "\n",
              "    .dataframe thead th {\n",
              "        text-align: right;\n",
              "    }\n",
              "</style>\n",
              "<table border=\"1\" class=\"dataframe\">\n",
              "  <thead>\n",
              "    <tr style=\"text-align: right;\">\n",
              "      <th></th>\n",
              "      <th>Transaction</th>\n",
              "      <th>Type</th>\n",
              "      <th>Amount</th>\n",
              "      <th>USD</th>\n",
              "      <th>Details</th>\n",
              "      <th>Loan</th>\n",
              "      <th>Date</th>\n",
              "    </tr>\n",
              "    <tr>\n",
              "      <th>Currency</th>\n",
              "      <th></th>\n",
              "      <th></th>\n",
              "      <th></th>\n",
              "      <th></th>\n",
              "      <th></th>\n",
              "      <th></th>\n",
              "      <th></th>\n",
              "    </tr>\n",
              "  </thead>\n",
              "  <tbody>\n",
              "    <tr>\n",
              "      <th>BCH</th>\n",
              "      <td>113</td>\n",
              "      <td>113</td>\n",
              "      <td>113</td>\n",
              "      <td>113</td>\n",
              "      <td>113</td>\n",
              "      <td>113</td>\n",
              "      <td>113</td>\n",
              "    </tr>\n",
              "    <tr>\n",
              "      <th>BNB</th>\n",
              "      <td>23</td>\n",
              "      <td>23</td>\n",
              "      <td>23</td>\n",
              "      <td>23</td>\n",
              "      <td>23</td>\n",
              "      <td>23</td>\n",
              "      <td>23</td>\n",
              "    </tr>\n",
              "    <tr>\n",
              "      <th>BTC</th>\n",
              "      <td>165</td>\n",
              "      <td>165</td>\n",
              "      <td>165</td>\n",
              "      <td>165</td>\n",
              "      <td>165</td>\n",
              "      <td>165</td>\n",
              "      <td>165</td>\n",
              "    </tr>\n",
              "    <tr>\n",
              "      <th>DAI</th>\n",
              "      <td>108</td>\n",
              "      <td>108</td>\n",
              "      <td>108</td>\n",
              "      <td>108</td>\n",
              "      <td>108</td>\n",
              "      <td>108</td>\n",
              "      <td>108</td>\n",
              "    </tr>\n",
              "    <tr>\n",
              "      <th>EOS</th>\n",
              "      <td>92</td>\n",
              "      <td>92</td>\n",
              "      <td>92</td>\n",
              "      <td>92</td>\n",
              "      <td>92</td>\n",
              "      <td>92</td>\n",
              "      <td>92</td>\n",
              "    </tr>\n",
              "    <tr>\n",
              "      <th>ETH</th>\n",
              "      <td>100</td>\n",
              "      <td>100</td>\n",
              "      <td>100</td>\n",
              "      <td>100</td>\n",
              "      <td>100</td>\n",
              "      <td>100</td>\n",
              "      <td>100</td>\n",
              "    </tr>\n",
              "    <tr>\n",
              "      <th>EUR</th>\n",
              "      <td>14</td>\n",
              "      <td>14</td>\n",
              "      <td>14</td>\n",
              "      <td>14</td>\n",
              "      <td>14</td>\n",
              "      <td>14</td>\n",
              "      <td>14</td>\n",
              "    </tr>\n",
              "    <tr>\n",
              "      <th>GBP</th>\n",
              "      <td>4</td>\n",
              "      <td>4</td>\n",
              "      <td>4</td>\n",
              "      <td>4</td>\n",
              "      <td>4</td>\n",
              "      <td>4</td>\n",
              "      <td>4</td>\n",
              "    </tr>\n",
              "    <tr>\n",
              "      <th>HUSD</th>\n",
              "      <td>2</td>\n",
              "      <td>2</td>\n",
              "      <td>2</td>\n",
              "      <td>2</td>\n",
              "      <td>2</td>\n",
              "      <td>2</td>\n",
              "      <td>2</td>\n",
              "    </tr>\n",
              "    <tr>\n",
              "      <th>LINK</th>\n",
              "      <td>75</td>\n",
              "      <td>75</td>\n",
              "      <td>75</td>\n",
              "      <td>75</td>\n",
              "      <td>75</td>\n",
              "      <td>75</td>\n",
              "      <td>75</td>\n",
              "    </tr>\n",
              "    <tr>\n",
              "      <th>LTC</th>\n",
              "      <td>98</td>\n",
              "      <td>98</td>\n",
              "      <td>98</td>\n",
              "      <td>98</td>\n",
              "      <td>98</td>\n",
              "      <td>98</td>\n",
              "      <td>98</td>\n",
              "    </tr>\n",
              "    <tr>\n",
              "      <th>NEXO</th>\n",
              "      <td>638</td>\n",
              "      <td>638</td>\n",
              "      <td>638</td>\n",
              "      <td>638</td>\n",
              "      <td>638</td>\n",
              "      <td>638</td>\n",
              "      <td>638</td>\n",
              "    </tr>\n",
              "    <tr>\n",
              "      <th>PAX</th>\n",
              "      <td>219</td>\n",
              "      <td>219</td>\n",
              "      <td>219</td>\n",
              "      <td>219</td>\n",
              "      <td>219</td>\n",
              "      <td>219</td>\n",
              "      <td>219</td>\n",
              "    </tr>\n",
              "    <tr>\n",
              "      <th>PAXG</th>\n",
              "      <td>23</td>\n",
              "      <td>23</td>\n",
              "      <td>23</td>\n",
              "      <td>23</td>\n",
              "      <td>23</td>\n",
              "      <td>23</td>\n",
              "      <td>23</td>\n",
              "    </tr>\n",
              "    <tr>\n",
              "      <th>TRX</th>\n",
              "      <td>28</td>\n",
              "      <td>28</td>\n",
              "      <td>28</td>\n",
              "      <td>28</td>\n",
              "      <td>28</td>\n",
              "      <td>28</td>\n",
              "      <td>28</td>\n",
              "    </tr>\n",
              "    <tr>\n",
              "      <th>TUSD</th>\n",
              "      <td>97</td>\n",
              "      <td>97</td>\n",
              "      <td>97</td>\n",
              "      <td>97</td>\n",
              "      <td>97</td>\n",
              "      <td>97</td>\n",
              "      <td>97</td>\n",
              "    </tr>\n",
              "    <tr>\n",
              "      <th>USD</th>\n",
              "      <td>846</td>\n",
              "      <td>846</td>\n",
              "      <td>846</td>\n",
              "      <td>846</td>\n",
              "      <td>846</td>\n",
              "      <td>846</td>\n",
              "      <td>846</td>\n",
              "    </tr>\n",
              "    <tr>\n",
              "      <th>USDC</th>\n",
              "      <td>180</td>\n",
              "      <td>180</td>\n",
              "      <td>180</td>\n",
              "      <td>180</td>\n",
              "      <td>180</td>\n",
              "      <td>180</td>\n",
              "      <td>180</td>\n",
              "    </tr>\n",
              "    <tr>\n",
              "      <th>USDT</th>\n",
              "      <td>139</td>\n",
              "      <td>139</td>\n",
              "      <td>139</td>\n",
              "      <td>139</td>\n",
              "      <td>139</td>\n",
              "      <td>139</td>\n",
              "      <td>139</td>\n",
              "    </tr>\n",
              "    <tr>\n",
              "      <th>XLM</th>\n",
              "      <td>121</td>\n",
              "      <td>121</td>\n",
              "      <td>121</td>\n",
              "      <td>121</td>\n",
              "      <td>121</td>\n",
              "      <td>121</td>\n",
              "      <td>121</td>\n",
              "    </tr>\n",
              "    <tr>\n",
              "      <th>XRP</th>\n",
              "      <td>123</td>\n",
              "      <td>123</td>\n",
              "      <td>123</td>\n",
              "      <td>123</td>\n",
              "      <td>123</td>\n",
              "      <td>123</td>\n",
              "      <td>123</td>\n",
              "    </tr>\n",
              "  </tbody>\n",
              "</table>\n",
              "</div>"
            ],
            "text/plain": [
              "          Transaction  Type  Amount  USD  Details  Loan  Date\n",
              "Currency                                                     \n",
              "BCH               113   113     113  113      113   113   113\n",
              "BNB                23    23      23   23       23    23    23\n",
              "BTC               165   165     165  165      165   165   165\n",
              "DAI               108   108     108  108      108   108   108\n",
              "EOS                92    92      92   92       92    92    92\n",
              "ETH               100   100     100  100      100   100   100\n",
              "EUR                14    14      14   14       14    14    14\n",
              "GBP                 4     4       4    4        4     4     4\n",
              "HUSD                2     2       2    2        2     2     2\n",
              "LINK               75    75      75   75       75    75    75\n",
              "LTC                98    98      98   98       98    98    98\n",
              "NEXO              638   638     638  638      638   638   638\n",
              "PAX               219   219     219  219      219   219   219\n",
              "PAXG               23    23      23   23       23    23    23\n",
              "TRX                28    28      28   28       28    28    28\n",
              "TUSD               97    97      97   97       97    97    97\n",
              "USD               846   846     846  846      846   846   846\n",
              "USDC              180   180     180  180      180   180   180\n",
              "USDT              139   139     139  139      139   139   139\n",
              "XLM               121   121     121  121      121   121   121\n",
              "XRP               123   123     123  123      123   123   123"
            ]
          },
          "metadata": {
            "tags": []
          },
          "execution_count": 157
        }
      ]
    },
    {
      "cell_type": "markdown",
      "metadata": {
        "id": "5eXL_D4gf38P"
      },
      "source": [
        "#Save dataframe"
      ]
    },
    {
      "cell_type": "code",
      "metadata": {
        "id": "8X7h7PcLLk1D"
      },
      "source": [
        "df = df[['Date','Type','Currency','Amount','USD','Loan','Details']]"
      ],
      "execution_count": null,
      "outputs": []
    },
    {
      "cell_type": "code",
      "metadata": {
        "id": "R1Uv5MhkmwUc"
      },
      "source": [
        "df.to_csv('nexo_bigquery.csv')"
      ],
      "execution_count": null,
      "outputs": []
    }
  ]
}